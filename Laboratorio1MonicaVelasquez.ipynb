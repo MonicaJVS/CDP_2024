{
 "cells": [
  {
   "cell_type": "markdown",
   "id": "6de30882-a0f4-4a50-949f-90eaee8e7f16",
   "metadata": {},
   "source": [
    "## ¿Qué es Git?\n",
    "\n",
    "Git es un sistema de control de versiones distribuido ampliamente utilizado en el desarrollo de software. Creado por Linus Torvalds en 2005, Git ha revolucionado la forma en que los equipos de desarrollo gestionan y colaboran en proyectos de software. Git se ha convertido en un pilar fundamental en el desarrollo de software gracias a su capacidad para gestionar eficientemente versiones, facilitar la colaboración y proporcionar un historial completo de cambios. Su popularidad y adopción generalizada en la comunidad de desarrollo respaldan su importancia como herramienta esencial para cualquier proyecto de software.\n",
    "\n",
    "Sobre este sistema es importante considerar los siguientes conceptos:\n",
    "•\tRepositorio: Git almacena información en repositorios, que pueden ser locales en la máquina de un desarrollador o remotos en servidores. Un repositorio contiene todo el historial de cambios del proyecto.\n",
    "•\tCommit: Los commits en Git representan instantáneas de los cambios realizados en un proyecto en un momento específico. Cada commit tiene un mensaje descriptivo que ayuda a comprender los cambios realizados.\n",
    "•\tBranch (Rama): Git permite la creación de ramas para trabajar en características o correcciones de errores de manera independiente. Esto facilita el desarrollo paralelo y la experimentación sin afectar la rama principal.\n",
    "•\tMerge (Fusionar): Después de trabajar en una rama, es posible fusionar los cambios de vuelta a la rama principal. Git gestiona la fusión eficientemente, evitando conflictos siempre que sea posible.\n",
    "•\tClonar: Git permite clonar repositorios, es decir, copiar el historial y los archivos en un nuevo directorio. Esto es útil al iniciar un nuevo proyecto o unirse a uno existente.\n",
    "•\tPull y Push: Pull implica obtener cambios del repositorio remoto al local, mientras que push implica enviar cambios locales al repositorio remoto. Estas operaciones son esenciales para la colaboración en equipos distribuidos.\n",
    "\n",
    "Dentro de los beneficios de Git tenemos:\n",
    "•\tColaboración Eficiente: Facilita la colaboración entre desarrolladores al permitir ramificar y fusionar de manera sencilla.\n",
    "•\tHistorial Completo: Mantiene un historial completo de cambios, lo que facilita la identificación de errores y la comprensión del desarrollo a lo largo del tiempo.\n",
    "•\tRastreo de Cambios: Permite el rastreo detallado de cada cambio realizado en el código, mejorando la trazabilidad y la resolución de problemas.\n",
    "•\tDesarrollo Paralelo: Permite a los equipos trabajar en diversas características simultáneamente sin interferencias.\n",
    "•\tPlataformas de Alojamiento: Git es compatible con varias plataformas de alojamiento de repositorios como GitHub, GitLab y Bitbucket, facilitando la colaboración en línea.\n"
   ]
  },
  {
   "cell_type": "markdown",
   "id": "cc8824e9-bccf-4784-9956-5447f3a9d043",
   "metadata": {},
   "source": [
    "## ¿Qué es GitHub?\n",
    "\n",
    "GitHub es una plataforma de desarrollo colaborativo que se ha convertido en un pilar fundamental en el mundo de la programación y la gestión de proyectos de software. Fundada en 2008, GitHub utiliza el sistema de control de versiones Git, desarrollado por Linus Torvalds, para facilitar la colaboración entre programadores y equipos de desarrollo. A lo largo de los años, ha evolucionado para abordar diversas necesidades en el ámbito de la tecnología y más allá. GitHub ha transformado la forma en que los equipos colaboran en el desarrollo de software y la gestión de proyectos. Su enfoque en el control de versiones, la colaboración abierta y la facilidad de uso lo convierten en una herramienta fundamental para desarrolladores individuales, equipos de desarrollo y organizaciones en todo el mundo. Su impacto positivo en la eficiencia y la calidad del software lo posiciona como una plataforma indispensable en el panorama tecnológico actual.\n",
    "\n",
    "GitHub tiene las siguientes características:\n",
    "•\tControl de Versiones con Git: GitHub utiliza Git, un sistema de control de versiones distribuido, para realizar un seguimiento de los cambios en el código fuente. Esto permite a los desarrolladores trabajar de manera colaborativa y gestionar eficientemente las actualizaciones del código a lo largo del tiempo.\n",
    "•\tRepositorios: Los proyectos en GitHub se almacenan en repositorios, que pueden ser públicos o privados. Los repositorios públicos son accesibles para todos, fomentando la transparencia y la contribución abierta, mientras que los privados permiten un desarrollo más discreto y controlado.\n",
    "•\tRamificación (Branching): La capacidad de crear ramas o \"branches\" en GitHub permite a los desarrolladores trabajar en nuevas características o solucionar problemas sin afectar directamente al código principal. La fusión posterior de estas ramas facilita la incorporación de nuevas funcionalidades de manera ordenada.\n",
    "•\tSolicitudes de Extracción (Pull Requests): Las solicitudes de extracción son una característica fundamental que permite a los desarrolladores proponer cambios en sus ramas y solicitar la integración de esos cambios en la rama principal del proyecto. Esto facilita la revisión y la colaboración entre miembros del equipo.\n",
    "•\tSeguimiento de Problemas (Issue Tracking):GitHub ofrece un sistema de seguimiento de problemas que permite a los desarrolladores y colaboradores informar y discutir tareas, errores, mejoras y otros temas relacionados con el proyecto. Esto facilita una gestión efectiva de las actividades del proyecto.\n",
    "•\tWikis y Páginas: GitHub proporciona herramientas integradas para crear wikis y páginas web asociadas con los proyectos. Esto facilita la documentación del proyecto y la comunicación de información importante.\n",
    "•\tUso General: GitHub no se limita solo al desarrollo de software. Su versatilidad ha llevado a su adopción en diversos campos, incluyendo la gestión de proyectos, la colaboración en documentos y la creación de comunidades en torno a proyectos de código abierto.\n"
   ]
  },
  {
   "cell_type": "markdown",
   "id": "50cb1841-3ae2-4e58-bffe-8af03db45bb9",
   "metadata": {},
   "source": [
    "## ¿Qué es MagicCells?\n",
    "\n",
    "MagicCells es una extensión para Jupyter Notebooks que permite ejecutar código en diferentes lenguajes, como Python, R y JavaScript.\n",
    "MagicCells tiene las siguientes características:\n",
    "•\tEjecución de código en diferentes lenguajes: Permite ejecutar código en diferentes lenguajes dentro del mismo notebook.\n",
    "•\tVisualización de resultados: Permite visualizar los resultados del código de forma interactiva.\n",
    "•\tFácil de usar: Es una herramienta fácil de usar con una interfaz intuitiva.\n"
   ]
  },
  {
   "cell_type": "code",
   "execution_count": 1,
   "id": "e9bc01ed-fb19-43c6-b732-92b239cd26de",
   "metadata": {
    "tags": []
   },
   "outputs": [
    {
     "data": {
      "text/plain": [
       "'https://github.com/MonicaJVS/CDP_2024.git'"
      ]
     },
     "execution_count": 1,
     "metadata": {},
     "output_type": "execute_result"
    }
   ],
   "source": [
    "# Usa MagicCells para dejar constancia del enlace de GitHub\n",
    "github_link = \"https://github.com/MonicaJVS/CDP_2024.git\"\n",
    "github_link\n"
   ]
  },
  {
   "cell_type": "code",
   "execution_count": null,
   "id": "a3c7d6ff-2fcc-45bd-9196-cca87d043dfc",
   "metadata": {},
   "outputs": [],
   "source": []
  }
 ],
 "metadata": {
  "kernelspec": {
   "display_name": "Python 3 (ipykernel)",
   "language": "python",
   "name": "python3"
  },
  "language_info": {
   "codemirror_mode": {
    "name": "ipython",
    "version": 3
   },
   "file_extension": ".py",
   "mimetype": "text/x-python",
   "name": "python",
   "nbconvert_exporter": "python",
   "pygments_lexer": "ipython3",
   "version": "3.11.5"
  }
 },
 "nbformat": 4,
 "nbformat_minor": 5
}
